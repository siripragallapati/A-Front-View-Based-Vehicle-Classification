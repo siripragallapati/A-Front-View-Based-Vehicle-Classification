{
 "cells": [
  {
   "cell_type": "markdown",
   "id": "5090a6fe",
   "metadata": {},
   "source": [
    "# For Renaming images"
   ]
  },
  {
   "cell_type": "code",
   "execution_count": null,
   "id": "23c92199",
   "metadata": {},
   "outputs": [],
   "source": [
    "import os\n",
    "path=os.chdir(\"/Users/jvmohanakrishnainty/Desktop/mini project/Bus1_100_images\")\n",
    "i=1\n",
    "for file in os.listdir(path):\n",
    "    new_file_name=\"bus1_{}.jpg\".format(i)\n",
    "    os.rename(file,new_file_name)\n",
    "    i=i+1"
   ]
  },
  {
   "cell_type": "markdown",
   "id": "93cef888",
   "metadata": {},
   "source": [
    "# For resizing and converting images into gray scale"
   ]
  },
  {
   "cell_type": "code",
   "execution_count": null,
   "id": "61108b35",
   "metadata": {},
   "outputs": [],
   "source": [
    "import cv2"
   ]
  },
  {
   "cell_type": "code",
   "execution_count": 2,
   "id": "4b4a9680",
   "metadata": {},
   "outputs": [
    {
     "name": "stdout",
     "output_type": "stream",
     "text": [
      "Image written to file-system: True\n",
      "Image written to file-system: True\n",
      "Image written to file-system: True\n",
      "Image written to file-system: True\n",
      "Image written to file-system: True\n",
      "Image written to file-system: True\n",
      "Image written to file-system: True\n",
      "Image written to file-system: True\n",
      "Image written to file-system: True\n",
      "Image written to file-system: True\n",
      "Image written to file-system: True\n",
      "Image written to file-system: True\n",
      "Image written to file-system: True\n",
      "Image written to file-system: True\n",
      "Image written to file-system: True\n",
      "Image written to file-system: True\n",
      "Image written to file-system: True\n",
      "Image written to file-system: True\n",
      "Image written to file-system: True\n",
      "Image written to file-system: True\n",
      "Image written to file-system: True\n",
      "Image written to file-system: True\n",
      "Image written to file-system: True\n",
      "Image written to file-system: True\n",
      "Image written to file-system: True\n",
      "Image written to file-system: True\n",
      "Image written to file-system: True\n",
      "Image written to file-system: True\n",
      "Image written to file-system: True\n",
      "Image written to file-system: True\n",
      "Image written to file-system: True\n",
      "Image written to file-system: True\n",
      "Image written to file-system: True\n",
      "Image written to file-system: True\n",
      "Image written to file-system: True\n",
      "Image written to file-system: True\n",
      "Image written to file-system: True\n",
      "Image written to file-system: True\n",
      "Image written to file-system: True\n",
      "Image written to file-system: True\n",
      "Image written to file-system: True\n",
      "Image written to file-system: True\n",
      "Image written to file-system: True\n",
      "Image written to file-system: True\n",
      "Image written to file-system: True\n",
      "Image written to file-system: True\n",
      "Image written to file-system: True\n",
      "Image written to file-system: True\n",
      "Image written to file-system: True\n",
      "Image written to file-system: True\n",
      "Image written to file-system: True\n",
      "Image written to file-system: True\n",
      "Image written to file-system: True\n",
      "Image written to file-system: True\n",
      "Image written to file-system: True\n",
      "Image written to file-system: True\n",
      "Image written to file-system: True\n",
      "Image written to file-system: True\n",
      "Image written to file-system: True\n",
      "Image written to file-system: True\n",
      "Image written to file-system: True\n",
      "Image written to file-system: True\n",
      "Image written to file-system: True\n",
      "Image written to file-system: True\n",
      "Image written to file-system: True\n",
      "Image written to file-system: True\n",
      "Image written to file-system: True\n",
      "Image written to file-system: True\n",
      "Image written to file-system: True\n",
      "Image written to file-system: True\n",
      "Image written to file-system: True\n",
      "Image written to file-system: True\n",
      "Image written to file-system: True\n",
      "Image written to file-system: True\n",
      "Image written to file-system: True\n",
      "Image written to file-system: True\n",
      "Image written to file-system: True\n",
      "Image written to file-system: True\n",
      "Image written to file-system: True\n",
      "Image written to file-system: True\n",
      "Image written to file-system: True\n",
      "Image written to file-system: True\n",
      "Image written to file-system: True\n",
      "Image written to file-system: True\n",
      "Image written to file-system: True\n",
      "Image written to file-system: True\n",
      "Image written to file-system: True\n",
      "Image written to file-system: True\n",
      "Image written to file-system: True\n",
      "Image written to file-system: True\n",
      "Image written to file-system: True\n",
      "Image written to file-system: True\n",
      "Image written to file-system: True\n",
      "Image written to file-system: True\n",
      "Image written to file-system: True\n",
      "Image written to file-system: True\n",
      "Image written to file-system: True\n",
      "Image written to file-system: True\n",
      "Image written to file-system: True\n",
      "Image written to file-system: True\n"
     ]
    }
   ],
   "source": [
    "\n",
    "import cv2\n",
    "for i in range(1,101):\n",
    "    img=cv2.imread('/Users/jvmohanakrishnainty/Desktop/mini project/Bus1_100_images/bus1_{}.jpg'.format(i),0)\n",
    "    reimg=cv2.resize(img,(256,256))\n",
    "    status=cv2.imwrite(r'/Users/jvmohanakrishnainty/Desktop/mini project/Bus1_100_grayresizedimages/bus1_{}.jpg'.format(i),reimg)\n",
    "    print(\"Image written to file-system:\",status)\n",
    "    cv2.destroyAllWindows()\n"
   ]
  },
  {
   "cell_type": "markdown",
   "id": "0121d194",
   "metadata": {},
   "source": [
    "# For converting images into numpy array "
   ]
  },
  {
   "cell_type": "code",
   "execution_count": 3,
   "id": "25944fb1",
   "metadata": {},
   "outputs": [],
   "source": [
    "from matplotlib.image import imread\n",
    "import numpy as np\n",
    "bus1_ls=[]\n",
    "bus2_ls=[]\n",
    "bus3_ls=[]\n",
    "path1=\"/Users/jvmohanakrishnainty/Desktop/mini project/Bus1_100_grayresizedimages/bus1_{}.jpg\"\n",
    "path2=\"/Users/jvmohanakrishnainty/Desktop/mini project/Bus2_100_grayresizedimages/bus2_{}.jpg\"\n",
    "path3=\"/Users/jvmohanakrishnainty/Desktop/mini project/Bus3_100_grayresizedimages/bus3_{}.jpg\"\n",
    "x_ls=[]\n",
    "for i in range(1,101):\n",
    "    img1=imread(path1.format(i))\n",
    "    x_ls.append(img1)\n",
    "for i in range(1,101):\n",
    "    img2=imread(path2.format(i))\n",
    "    x_ls.append(img2)\n",
    "for i in range(1,101):\n",
    "    img3=imread(path3.format(i))\n",
    "    x_ls.append(img3)\n",
    "    "
   ]
  },
  {
   "cell_type": "code",
   "execution_count": 11,
   "id": "fe04f7b8",
   "metadata": {},
   "outputs": [
    {
     "name": "stdout",
     "output_type": "stream",
     "text": [
      "(300, 256, 256)\n",
      "(300, 65536)\n",
      "2\n",
      "<class 'numpy.ndarray'>\n"
     ]
    }
   ],
   "source": [
    "x_ls=np.asarray(x_ls)\n",
    "print(x_ls.shape)\n",
    "x_np=x_ls.reshape(300,256*256)\n",
    "print(x_np.shape)\n",
    "print(x_np.ndim)\n",
    "print(type(x_np))"
   ]
  },
  {
   "cell_type": "code",
   "execution_count": 7,
   "id": "b0b80a8a",
   "metadata": {},
   "outputs": [
    {
     "name": "stdout",
     "output_type": "stream",
     "text": [
      "300\n"
     ]
    }
   ],
   "source": [
    "y_ls=[]\n",
    "for i in range(0,100):\n",
    "    y_ls.append(1)\n",
    "for i in range(0,100):\n",
    "    y_ls.append(2)\n",
    "for i in range(0,100):\n",
    "    y_ls.append(3)\n",
    "print(len(y_ls))"
   ]
  },
  {
   "cell_type": "code",
   "execution_count": 13,
   "id": "07e0cc9e",
   "metadata": {},
   "outputs": [
    {
     "name": "stdout",
     "output_type": "stream",
     "text": [
      "(65536,)\n"
     ]
    }
   ],
   "source": [
    "print(x_np[1].shape)"
   ]
  },
  {
   "cell_type": "code",
   "execution_count": 4,
   "id": "29a1508e",
   "metadata": {},
   "outputs": [
    {
     "name": "stdout",
     "output_type": "stream",
     "text": [
      "1\n",
      "2\n"
     ]
    }
   ],
   "source": [
    "y_np=np.asarray(y_ls)\n",
    "print(y_np.ndim)\n",
    "y_np=y_np.reshape(300,1)\n",
    "print(y_np.ndim)"
   ]
  },
  {
   "cell_type": "code",
   "execution_count": 5,
   "id": "19d773dd",
   "metadata": {},
   "outputs": [
    {
     "name": "stdout",
     "output_type": "stream",
     "text": [
      "[[1]\n",
      " [1]\n",
      " [1]\n",
      " [1]\n",
      " [1]\n",
      " [1]\n",
      " [1]\n",
      " [1]\n",
      " [1]\n",
      " [1]\n",
      " [1]\n",
      " [1]\n",
      " [1]\n",
      " [1]\n",
      " [1]\n",
      " [1]\n",
      " [1]\n",
      " [1]\n",
      " [1]\n",
      " [1]\n",
      " [1]\n",
      " [1]\n",
      " [1]\n",
      " [1]\n",
      " [1]\n",
      " [1]\n",
      " [1]\n",
      " [1]\n",
      " [1]\n",
      " [1]\n",
      " [1]\n",
      " [1]\n",
      " [1]\n",
      " [1]\n",
      " [1]\n",
      " [1]\n",
      " [1]\n",
      " [1]\n",
      " [1]\n",
      " [1]\n",
      " [1]\n",
      " [1]\n",
      " [1]\n",
      " [1]\n",
      " [1]\n",
      " [1]\n",
      " [1]\n",
      " [1]\n",
      " [1]\n",
      " [1]\n",
      " [1]\n",
      " [1]\n",
      " [1]\n",
      " [1]\n",
      " [1]\n",
      " [1]\n",
      " [1]\n",
      " [1]\n",
      " [1]\n",
      " [1]\n",
      " [1]\n",
      " [1]\n",
      " [1]\n",
      " [1]\n",
      " [1]\n",
      " [1]\n",
      " [1]\n",
      " [1]\n",
      " [1]\n",
      " [1]\n",
      " [1]\n",
      " [1]\n",
      " [1]\n",
      " [1]\n",
      " [1]\n",
      " [1]\n",
      " [1]\n",
      " [1]\n",
      " [1]\n",
      " [1]\n",
      " [1]\n",
      " [1]\n",
      " [1]\n",
      " [1]\n",
      " [1]\n",
      " [1]\n",
      " [1]\n",
      " [1]\n",
      " [1]\n",
      " [1]\n",
      " [1]\n",
      " [1]\n",
      " [1]\n",
      " [1]\n",
      " [1]\n",
      " [1]\n",
      " [1]\n",
      " [1]\n",
      " [1]\n",
      " [1]\n",
      " [2]\n",
      " [2]\n",
      " [2]\n",
      " [2]\n",
      " [2]\n",
      " [2]\n",
      " [2]\n",
      " [2]\n",
      " [2]\n",
      " [2]\n",
      " [2]\n",
      " [2]\n",
      " [2]\n",
      " [2]\n",
      " [2]\n",
      " [2]\n",
      " [2]\n",
      " [2]\n",
      " [2]\n",
      " [2]\n",
      " [2]\n",
      " [2]\n",
      " [2]\n",
      " [2]\n",
      " [2]\n",
      " [2]\n",
      " [2]\n",
      " [2]\n",
      " [2]\n",
      " [2]\n",
      " [2]\n",
      " [2]\n",
      " [2]\n",
      " [2]\n",
      " [2]\n",
      " [2]\n",
      " [2]\n",
      " [2]\n",
      " [2]\n",
      " [2]\n",
      " [2]\n",
      " [2]\n",
      " [2]\n",
      " [2]\n",
      " [2]\n",
      " [2]\n",
      " [2]\n",
      " [2]\n",
      " [2]\n",
      " [2]\n",
      " [2]\n",
      " [2]\n",
      " [2]\n",
      " [2]\n",
      " [2]\n",
      " [2]\n",
      " [2]\n",
      " [2]\n",
      " [2]\n",
      " [2]\n",
      " [2]\n",
      " [2]\n",
      " [2]\n",
      " [2]\n",
      " [2]\n",
      " [2]\n",
      " [2]\n",
      " [2]\n",
      " [2]\n",
      " [2]\n",
      " [2]\n",
      " [2]\n",
      " [2]\n",
      " [2]\n",
      " [2]\n",
      " [2]\n",
      " [2]\n",
      " [2]\n",
      " [2]\n",
      " [2]\n",
      " [2]\n",
      " [2]\n",
      " [2]\n",
      " [2]\n",
      " [2]\n",
      " [2]\n",
      " [2]\n",
      " [2]\n",
      " [2]\n",
      " [2]\n",
      " [2]\n",
      " [2]\n",
      " [2]\n",
      " [2]\n",
      " [2]\n",
      " [2]\n",
      " [2]\n",
      " [2]\n",
      " [2]\n",
      " [2]\n",
      " [3]\n",
      " [3]\n",
      " [3]\n",
      " [3]\n",
      " [3]\n",
      " [3]\n",
      " [3]\n",
      " [3]\n",
      " [3]\n",
      " [3]\n",
      " [3]\n",
      " [3]\n",
      " [3]\n",
      " [3]\n",
      " [3]\n",
      " [3]\n",
      " [3]\n",
      " [3]\n",
      " [3]\n",
      " [3]\n",
      " [3]\n",
      " [3]\n",
      " [3]\n",
      " [3]\n",
      " [3]\n",
      " [3]\n",
      " [3]\n",
      " [3]\n",
      " [3]\n",
      " [3]\n",
      " [3]\n",
      " [3]\n",
      " [3]\n",
      " [3]\n",
      " [3]\n",
      " [3]\n",
      " [3]\n",
      " [3]\n",
      " [3]\n",
      " [3]\n",
      " [3]\n",
      " [3]\n",
      " [3]\n",
      " [3]\n",
      " [3]\n",
      " [3]\n",
      " [3]\n",
      " [3]\n",
      " [3]\n",
      " [3]\n",
      " [3]\n",
      " [3]\n",
      " [3]\n",
      " [3]\n",
      " [3]\n",
      " [3]\n",
      " [3]\n",
      " [3]\n",
      " [3]\n",
      " [3]\n",
      " [3]\n",
      " [3]\n",
      " [3]\n",
      " [3]\n",
      " [3]\n",
      " [3]\n",
      " [3]\n",
      " [3]\n",
      " [3]\n",
      " [3]\n",
      " [3]\n",
      " [3]\n",
      " [3]\n",
      " [3]\n",
      " [3]\n",
      " [3]\n",
      " [3]\n",
      " [3]\n",
      " [3]\n",
      " [3]\n",
      " [3]\n",
      " [3]\n",
      " [3]\n",
      " [3]\n",
      " [3]\n",
      " [3]\n",
      " [3]\n",
      " [3]\n",
      " [3]\n",
      " [3]\n",
      " [3]\n",
      " [3]\n",
      " [3]\n",
      " [3]\n",
      " [3]\n",
      " [3]\n",
      " [3]\n",
      " [3]\n",
      " [3]\n",
      " [3]]\n"
     ]
    }
   ],
   "source": [
    "print(y_np)"
   ]
  },
  {
   "cell_type": "code",
   "execution_count": 7,
   "id": "23444999",
   "metadata": {},
   "outputs": [
    {
     "name": "stdout",
     "output_type": "stream",
     "text": [
      "2\n",
      "2\n"
     ]
    }
   ],
   "source": [
    "print(x_np.ndim)\n",
    "print(y_np.ndim)"
   ]
  },
  {
   "cell_type": "markdown",
   "id": "c41f694f",
   "metadata": {},
   "source": [
    "# Splitting into test and train data"
   ]
  },
  {
   "cell_type": "code",
   "execution_count": 8,
   "id": "0d2239e8",
   "metadata": {},
   "outputs": [],
   "source": [
    "from sklearn.model_selection import train_test_split\n",
    "from sklearn import metrics "
   ]
  },
  {
   "cell_type": "code",
   "execution_count": 9,
   "id": "5d0eecc4",
   "metadata": {},
   "outputs": [],
   "source": [
    "X_train, X_test, y_train, y_test = train_test_split(x_np,y_np,test_size=0.20,shuffle=True, random_state= 19)\n"
   ]
  },
  {
   "cell_type": "code",
   "execution_count": null,
   "id": "d920dc09",
   "metadata": {},
   "outputs": [],
   "source": [
    "print(X_train.ndim)\n",
    "print(y_train.ndim)"
   ]
  },
  {
   "cell_type": "markdown",
   "id": "8e2b40a6",
   "metadata": {},
   "source": [
    "# Model training  "
   ]
  },
  {
   "cell_type": "markdown",
   "id": "9a044504",
   "metadata": {},
   "source": [
    "# Using Random Forest"
   ]
  },
  {
   "cell_type": "code",
   "execution_count": 21,
   "id": "b223817c",
   "metadata": {},
   "outputs": [
    {
     "name": "stderr",
     "output_type": "stream",
     "text": [
      "/Users/jvmohanakrishnainty/anaconda3/lib/python3.11/site-packages/sklearn/base.py:1151: DataConversionWarning: A column-vector y was passed when a 1d array was expected. Please change the shape of y to (n_samples,), for example using ravel().\n",
      "  return fit_method(estimator, *args, **kwargs)\n"
     ]
    },
    {
     "name": "stdout",
     "output_type": "stream",
     "text": [
      "ACCURACY OF THE MODEL:  0.8333333333333334\n"
     ]
    }
   ],
   "source": [
    "from sklearn.ensemble import RandomForestClassifier\n",
    "clf = RandomForestClassifier(n_estimators = 200)  \n",
    "clf.fit(X_train, y_train)\n",
    "y_pred = clf.predict(X_test)\n",
    "print(\"ACCURACY OF THE MODEL: \", metrics.accuracy_score(y_test, y_pred))"
   ]
  },
  {
   "cell_type": "code",
   "execution_count": 22,
   "id": "878211f7",
   "metadata": {},
   "outputs": [
    {
     "name": "stdout",
     "output_type": "stream",
     "text": [
      "[[16  2  0]\n",
      " [ 2 14  2]\n",
      " [ 2  2 20]]\n"
     ]
    }
   ],
   "source": [
    "from sklearn.metrics import confusion_matrix\n",
    "print(confusion_matrix(y_test,y_pred))"
   ]
  },
  {
   "cell_type": "markdown",
   "id": "f12b6205",
   "metadata": {},
   "source": [
    "# Using SVM"
   ]
  },
  {
   "cell_type": "code",
   "execution_count": 23,
   "id": "794301f5",
   "metadata": {},
   "outputs": [
    {
     "name": "stderr",
     "output_type": "stream",
     "text": [
      "/Users/jvmohanakrishnainty/anaconda3/lib/python3.11/site-packages/sklearn/utils/validation.py:1184: DataConversionWarning: A column-vector y was passed when a 1d array was expected. Please change the shape of y to (n_samples, ), for example using ravel().\n",
      "  y = column_or_1d(y, warn=True)\n"
     ]
    },
    {
     "name": "stdout",
     "output_type": "stream",
     "text": [
      "ACCURACY OF THE MODEL:  0.7833333333333333\n"
     ]
    }
   ],
   "source": [
    "from sklearn.svm import SVC\n",
    "SVCClf = SVC(kernel = 'rbf',gamma = 'scale', shrinking = False,)\n",
    "SVCClf.fit(X_train, y_train)\n",
    "y_pred = SVCClf.predict(X_test)\n",
    "print(\"ACCURACY OF THE MODEL: \", metrics.accuracy_score(y_test, y_pred))"
   ]
  },
  {
   "cell_type": "code",
   "execution_count": 24,
   "id": "3da22876",
   "metadata": {},
   "outputs": [
    {
     "name": "stdout",
     "output_type": "stream",
     "text": [
      "[[15  3  0]\n",
      " [ 0 16  2]\n",
      " [ 2  6 16]]\n"
     ]
    }
   ],
   "source": [
    "from sklearn.metrics import confusion_matrix\n",
    "print(confusion_matrix(y_test,y_pred))"
   ]
  },
  {
   "cell_type": "markdown",
   "id": "1aeee197",
   "metadata": {},
   "source": [
    "# Using Decision Tree"
   ]
  },
  {
   "cell_type": "code",
   "execution_count": 25,
   "id": "20ea4ad3",
   "metadata": {},
   "outputs": [
    {
     "name": "stdout",
     "output_type": "stream",
     "text": [
      "Accuracy: 0.5333333333333333\n"
     ]
    }
   ],
   "source": [
    "#Fitting Decision Tree classifier to the training set  \n",
    "from sklearn.tree import DecisionTreeClassifier  \n",
    "classifier= DecisionTreeClassifier(criterion='entropy', random_state=0)  \n",
    "classifier.fit(X_train, y_train)  \n",
    "y_pred= classifier.predict(X_test) \n",
    "from sklearn.metrics import confusion_matrix \n",
    "cm= confusion_matrix(y_test, y_pred) \n",
    "print(\"Accuracy:\",metrics.accuracy_score(y_test,y_pred))"
   ]
  },
  {
   "cell_type": "code",
   "execution_count": 26,
   "id": "9e502be6",
   "metadata": {},
   "outputs": [
    {
     "name": "stdout",
     "output_type": "stream",
     "text": [
      "[[10  7  1]\n",
      " [ 8  7  3]\n",
      " [ 7  2 15]]\n"
     ]
    }
   ],
   "source": [
    "from sklearn.metrics import confusion_matrix\n",
    "print(confusion_matrix(y_test,y_pred))"
   ]
  },
  {
   "cell_type": "markdown",
   "id": "7dd6fb34",
   "metadata": {},
   "source": [
    "# Using Naive Bayes"
   ]
  },
  {
   "cell_type": "code",
   "execution_count": 27,
   "id": "37f7ce17",
   "metadata": {},
   "outputs": [
    {
     "name": "stdout",
     "output_type": "stream",
     "text": [
      "Gaussian Naive Bayes model accuracy(in %): 66.66666666666666\n"
     ]
    },
    {
     "name": "stderr",
     "output_type": "stream",
     "text": [
      "/Users/jvmohanakrishnainty/anaconda3/lib/python3.11/site-packages/sklearn/utils/validation.py:1184: DataConversionWarning: A column-vector y was passed when a 1d array was expected. Please change the shape of y to (n_samples, ), for example using ravel().\n",
      "  y = column_or_1d(y, warn=True)\n"
     ]
    }
   ],
   "source": [
    "# training the model on training set\n",
    "from sklearn.naive_bayes import GaussianNB\n",
    "gnb = GaussianNB()\n",
    "gnb.fit(X_train, y_train)\n",
    " \n",
    "# making predictions on the testing set\n",
    "y_pred = gnb.predict(X_test)\n",
    " \n",
    "# comparing actual response values (y_test) with predicted response values (y_pred)\n",
    "from sklearn import metrics\n",
    "print(\"Gaussian Naive Bayes model accuracy(in %):\", metrics.accuracy_score(y_test, y_pred)*100)"
   ]
  },
  {
   "cell_type": "code",
   "execution_count": 28,
   "id": "402d53a6",
   "metadata": {},
   "outputs": [
    {
     "name": "stdout",
     "output_type": "stream",
     "text": [
      "[[13  5  0]\n",
      " [ 3 12  3]\n",
      " [ 4  5 15]]\n"
     ]
    }
   ],
   "source": [
    "from sklearn.metrics import confusion_matrix\n",
    "print(confusion_matrix(y_test,y_pred))"
   ]
  },
  {
   "cell_type": "markdown",
   "id": "a6f7b776",
   "metadata": {},
   "source": [
    "# Using KNN"
   ]
  },
  {
   "cell_type": "code",
   "execution_count": 34,
   "id": "e48f1ad0",
   "metadata": {},
   "outputs": [
    {
     "name": "stdout",
     "output_type": "stream",
     "text": [
      "Acurracy: 0.75\n",
      "\n",
      "[[15  2  1]\n",
      " [ 3 12  3]\n",
      " [ 4  2 18]]\n"
     ]
    },
    {
     "name": "stderr",
     "output_type": "stream",
     "text": [
      "/Users/jvmohanakrishnainty/anaconda3/lib/python3.11/site-packages/sklearn/neighbors/_classification.py:228: DataConversionWarning: A column-vector y was passed when a 1d array was expected. Please change the shape of y to (n_samples,), for example using ravel().\n",
      "  return self._fit(X, y)\n"
     ]
    }
   ],
   "source": [
    "from sklearn import neighbors, datasets, preprocessing\n",
    "from sklearn.model_selection import train_test_split\n",
    "from sklearn.metrics import accuracy_score\n",
    "from sklearn.metrics import classification_report\n",
    "from sklearn.metrics import confusion_matrix\n",
    "scaler = preprocessing.StandardScaler().fit(X_train)\n",
    "Xtrain = scaler.transform(X_train)\n",
    "Xtest = scaler.transform(X_test)\n",
    "\n",
    "knn = neighbors.KNeighborsClassifier(n_neighbors=4)\n",
    "knn.fit(X_train, y_train)\n",
    "y_pred = knn.predict(X_test)\n",
    "\n",
    "print(\"Acurracy: \"+str(accuracy_score(y_test, y_pred)))\n",
    "print()\n",
    "#print(classification_report(y_test, y_pred))\n",
    "print(confusion_matrix(y_test, y_pred))"
   ]
  },
  {
   "cell_type": "markdown",
   "id": "5ba068cf",
   "metadata": {},
   "source": [
    "# For Saving Model "
   ]
  },
  {
   "cell_type": "code",
   "execution_count": null,
   "id": "b6e19c7a",
   "metadata": {},
   "outputs": [],
   "source": [
    "from joblib import Parallel, delayed\n",
    "import joblib\n",
    "  \n",
    "  \n",
    "# Save the model as a pickle in a file\n",
    "joblib.dump(clf, 'file.pkl')\n",
    "  \n",
    "# Load the model from the file\n",
    "clf_from_joblib = joblib.load('file.pkl')\n",
    "  \n",
    "# Use the loaded model to make predictions\n",
    "#clf_from_joblib.predict(X_test)"
   ]
  },
  {
   "cell_type": "markdown",
   "id": "4629063a",
   "metadata": {},
   "source": [
    "# For connecting Database "
   ]
  },
  {
   "cell_type": "code",
   "execution_count": 1,
   "id": "4cb9e36e",
   "metadata": {},
   "outputs": [],
   "source": [
    "import mysql.connector\n",
    "dataBase = mysql.connector.connect(\n",
    "  host =\"localhost\",\n",
    "  user =\"root\",\n",
    "  passwd =\"krishna@inty\",\n",
    "  database=\"miniproject\"\n",
    ")\n",
    " \n",
    "# preparing a cursor object\n",
    "cursorObject = dataBase.cursor()"
   ]
  },
  {
   "cell_type": "markdown",
   "id": "8d01b6cc",
   "metadata": {},
   "source": [
    "# For User Interface "
   ]
  },
  {
   "cell_type": "code",
   "execution_count": 2,
   "id": "b00bf049",
   "metadata": {},
   "outputs": [
    {
     "name": "stderr",
     "output_type": "stream",
     "text": [
      "/Users/jvmohanakrishnainty/anaconda3/lib/python3.11/site-packages/gradio/blocks.py:1032: UserWarning: api_name predict already exists, using predict_1\n",
      "  warnings.warn(\n"
     ]
    },
    {
     "name": "stdout",
     "output_type": "stream",
     "text": [
      "Running on local URL:  http://127.0.0.1:7860\n",
      "\n",
      "To create a public link, set `share=True` in `launch()`.\n"
     ]
    },
    {
     "data": {
      "text/html": [
       "<div><iframe src=\"http://127.0.0.1:7860/\" width=\"100%\" height=\"500\" allow=\"autoplay; camera; microphone; clipboard-read; clipboard-write;\" frameborder=\"0\" allowfullscreen></iframe></div>"
      ],
      "text/plain": [
       "<IPython.core.display.HTML object>"
      ]
     },
     "metadata": {},
     "output_type": "display_data"
    }
   ],
   "source": [
    "import gradio as gr\n",
    "import numpy as np\n",
    "from joblib import Parallel, delayed\n",
    "import joblib\n",
    "import cv2\n",
    "from datetime import datetime\n",
    "\n",
    "\n",
    "def image(img,status,clear_data,save):    \n",
    "    if(clear_data):\n",
    "        cursorObject.execute(\"delete from busdb\")\n",
    "    img=cv2.resize(img,(256,256))\n",
    "    img=cv2.cvtColor(img,cv2.COLOR_BGR2GRAY)\n",
    "    x_np=np.array(0)\n",
    "    x_np=np.array(img)\n",
    "    x=x_np.reshape(1,65536)\n",
    "    clf_from_joblib = joblib.load('filename.pkl')\n",
    "    res=clf_from_joblib.predict(x)  \n",
    "    sql = \"INSERT INTO busdb (Name,Status,Time)\\\n",
    "VALUES (%s,%s,%s)\"\n",
    "    s=status+\" at\"\n",
    "    now = datetime.now()\n",
    "    id = \"Bus \"+str(res[0])\n",
    "    formatted_date = now.strftime('%Y-%m-%d %H:%M:%S')\n",
    "    val=(id,s,formatted_date)\n",
    "    \n",
    "    cursorObject.execute(sql, val)\n",
    "    dataBase.commit()\n",
    "    cursorObject.execute(\"select * from busdb\")\n",
    "    a=cursorObject.fetchall()\n",
    "    y=\"\";\n",
    "    for i in a:\n",
    "        for j in i:\n",
    "            y=y+j+\"  \"\n",
    "        y=y+\"\\n\"\n",
    "    if(save):\n",
    "        f = open(\"/Users/jvmohanakrishnainty/Desktop/\"+formatted_date, \"a\")\n",
    "        for i in a:\n",
    "            s=\"\"\n",
    "            for j in i:\n",
    "                s=s+j+\" \"\n",
    "            s=s+\"\\n\"\n",
    "            f.write(s)\n",
    "        f.close()\n",
    "        \n",
    "    \n",
    "    return (\"Bus \"+str(res[0])+\" \"+status,y)\n",
    "    \n",
    "#For uploading image       \n",
    "tab1 = gr.Interface(fn=image, \n",
    "inputs=[\"image\",\n",
    "gr.Radio([\"Entered\", \"Exited\"], label=\"Status\", info=\"Did vehicle Entered or Exit\"),\n",
    "gr.Checkbox(label=\"Clear Data\", info=\"Do you want to clear previous records?\"),\n",
    "gr.Checkbox(label=\"Save\", info=\"Do you want to save the data?\")],\n",
    "outputs=[\"text\",\"text\"])\n",
    "\n",
    "#For Taking photo\n",
    "tab2 = gr.Interface(fn=image, \n",
    "inputs=[gr.Image(source=\"webcam\"),\n",
    "gr.Radio([\"Entered\", \"Exited\"], label=\"Status\", info=\"Did bus Entered or Exit\"),\n",
    "gr.Checkbox(label=\"Clear Data\", info=\"Do you want to clear previous records?\"),\n",
    "gr.Checkbox(label=\"Save\", info=\"Do you want to save the data?\")],\n",
    "outputs=[\"text\",\"text\"])\n",
    " \n",
    "    \n",
    "if __name__ == \"__main__\":\n",
    "    demo = gr.TabbedInterface([tab1, tab2], [\"Upload image\", \"Take Photo\"])\n",
    "    demo.launch(auth=('vasavi','1234'))   "
   ]
  },
  {
   "cell_type": "code",
   "execution_count": null,
   "id": "a21eb4c2",
   "metadata": {},
   "outputs": [],
   "source": []
  }
 ],
 "metadata": {
  "kernelspec": {
   "display_name": "Python 3 (ipykernel)",
   "language": "python",
   "name": "python3"
  },
  "language_info": {
   "codemirror_mode": {
    "name": "ipython",
    "version": 3
   },
   "file_extension": ".py",
   "mimetype": "text/x-python",
   "name": "python",
   "nbconvert_exporter": "python",
   "pygments_lexer": "ipython3",
   "version": "3.11.5"
  }
 },
 "nbformat": 4,
 "nbformat_minor": 5
}
